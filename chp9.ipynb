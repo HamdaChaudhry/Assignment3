{
 "cells": [
  {
   "cell_type": "code",
   "execution_count": 1,
   "id": "367cd26b",
   "metadata": {},
   "outputs": [
    {
     "name": "stdout",
     "output_type": "stream",
     "text": [
      "4\n"
     ]
    }
   ],
   "source": [
    "#old value overwritten\n",
    "\n",
    "x = 2\n",
    "x = 4\n",
    "print(x)"
   ]
  },
  {
   "cell_type": "code",
   "execution_count": 3,
   "id": "8f381d20",
   "metadata": {},
   "outputs": [
    {
     "name": "stdout",
     "output_type": "stream",
     "text": [
      "{'money': 12, 'candy': 3, 'tissues': 75}\n",
      "3\n",
      "{'money': 12, 'candy': 5, 'tissues': 75}\n"
     ]
    }
   ],
   "source": [
    "#creating a dict\n",
    "\n",
    "purse = dict()\n",
    "purse['money'] = 12\n",
    "purse['candy'] = 3\n",
    "purse['tissues'] = 75\n",
    "print(purse)\n",
    "\n",
    "print(purse['candy'])\n",
    "\n",
    "purse['candy'] = purse['candy'] + 2\n",
    "print(purse)"
   ]
  },
  {
   "cell_type": "code",
   "execution_count": 5,
   "id": "64607bb2",
   "metadata": {},
   "outputs": [
    {
     "name": "stdout",
     "output_type": "stream",
     "text": [
      "[21, 183]\n",
      "[23, 183]\n",
      "{'age': 21, 'course': 182}\n",
      "{'age': 23, 'course': 182}\n"
     ]
    }
   ],
   "source": [
    "#comparison of list and dict\n",
    "\n",
    "lst = list()\n",
    "lst.append(21)\n",
    "lst.append(183)\n",
    "print(lst)\n",
    "lst[0] = 23\n",
    "print(lst)\n",
    "\n",
    "ddd = dict()\n",
    "ddd['age'] = 21\n",
    "ddd['course'] = 182\n",
    "print(ddd)\n",
    "ddd['age'] = 23\n",
    "print(ddd)"
   ]
  },
  {
   "cell_type": "code",
   "execution_count": 6,
   "id": "56e227fd",
   "metadata": {},
   "outputs": [
    {
     "name": "stdout",
     "output_type": "stream",
     "text": [
      "{'chuck': 1, 'fred': 42, 'jan': 100}\n",
      "{}\n"
     ]
    }
   ],
   "source": [
    "#dict literal constants\n",
    "\n",
    "jjj = { 'chuck' : 1 , 'fred' : 42, 'jan': 100}\n",
    "print(jjj)\n",
    "\n",
    "ooo = { } #empty dict\n",
    "print(ooo)"
   ]
  },
  {
   "cell_type": "code",
   "execution_count": 7,
   "id": "63948c05",
   "metadata": {},
   "outputs": [
    {
     "name": "stdout",
     "output_type": "stream",
     "text": [
      "{'csev': 1, 'cwen': 1}\n",
      "{'csev': 1, 'cwen': 2}\n"
     ]
    }
   ],
   "source": [
    "#many counters with a dict\n",
    "\n",
    "ccc = dict()\n",
    "ccc['csev'] = 1\n",
    "ccc['cwen'] = 1\n",
    "print(ccc)\n",
    "\n",
    "ccc['cwen'] = ccc['cwen'] + 1\n",
    "print(ccc)\n"
   ]
  },
  {
   "cell_type": "code",
   "execution_count": 8,
   "id": "83afc6d1",
   "metadata": {},
   "outputs": [
    {
     "data": {
      "text/plain": [
       "False"
      ]
     },
     "execution_count": 8,
     "metadata": {},
     "output_type": "execute_result"
    }
   ],
   "source": [
    "#dict tracebacks\n",
    "\n",
    "ccc = dict()\n",
    "    #print(ccc['csev'] KeyError: 'csev'\n",
    "'csev' in ccc"
   ]
  },
  {
   "cell_type": "code",
   "execution_count": 9,
   "id": "a6867d3a",
   "metadata": {},
   "outputs": [
    {
     "name": "stdout",
     "output_type": "stream",
     "text": [
      "{'csev': 2, 'cwen': 2, 'zqian': 1}\n"
     ]
    }
   ],
   "source": [
    "#new name in list\n",
    "\n",
    "counts = dict()\n",
    "names = ['csev', 'cwen', 'csev', 'zqian', 'cwen']\n",
    "for x in names :\n",
    "    if x not in counts: \n",
    "        counts[x] = 1\n",
    "    else :\n",
    "        counts[x] = counts[x] + 1\n",
    "print(counts)"
   ]
  },
  {
   "cell_type": "code",
   "execution_count": 16,
   "id": "3079a7ab",
   "metadata": {},
   "outputs": [
    {
     "name": "stdout",
     "output_type": "stream",
     "text": [
      "{'csev': 2, 'cwen': 2, 'zqian': 1}\n"
     ]
    }
   ],
   "source": [
    "#counting with get()\n",
    "\n",
    "counts = dict()\n",
    "names = ['csev', 'cwen', 'csev', 'zqian', 'cwen']\n",
    "for name in names :\n",
    "    counts[name] = counts.get(name, 0) + 1\n",
    "print(counts)"
   ]
  },
  {
   "cell_type": "code",
   "execution_count": 17,
   "id": "3fbdb9f4",
   "metadata": {},
   "outputs": [
    {
     "name": "stdout",
     "output_type": "stream",
     "text": [
      "Enter a line of text:\n",
      "The general pattern to count the  words in a line of text is to split the line into words, then loop  through the words and use a  dictionary to track the count of  each word independently.\n",
      "Words: ['The', 'general', 'pattern', 'to', 'count', 'the', 'words', 'in', 'a', 'line', 'of', 'text', 'is', 'to', 'split', 'the', 'line', 'into', 'words,', 'then', 'loop', 'through', 'the', 'words', 'and', 'use', 'a', 'dictionary', 'to', 'track', 'the', 'count', 'of', 'each', 'word', 'independently.']\n",
      "Counting...\n",
      "Counts {'The': 1, 'general': 1, 'pattern': 1, 'to': 3, 'count': 2, 'the': 4, 'words': 2, 'in': 1, 'a': 2, 'line': 2, 'of': 2, 'text': 1, 'is': 1, 'split': 1, 'into': 1, 'words,': 1, 'then': 1, 'loop': 1, 'through': 1, 'and': 1, 'use': 1, 'dictionary': 1, 'track': 1, 'each': 1, 'word': 1, 'independently.': 1}\n"
     ]
    }
   ],
   "source": [
    "#counting pattern1\n",
    "\n",
    "counts = dict()\n",
    "print('Enter a line of text:')\n",
    "line = input('')\n",
    "words = line.split()\n",
    "print('Words:', words)\n",
    "print('Counting...')\n",
    "for word in words:\n",
    "    counts[word] = counts.get(word,0) + 1\n",
    "print('Counts', counts)\n"
   ]
  },
  {
   "cell_type": "code",
   "execution_count": null,
   "id": "4a1c501e",
   "metadata": {},
   "outputs": [],
   "source": [
    "#counting pattern 2\n",
    "\n",
    "counts = dict()\n",
    "line = input('Enter a line of text:')\n",
    "words = line.split()\n",
    "print('Words:', words)\n",
    "print('Counting...')\n",
    "for word in words:\n",
    "    counts[word] = counts.get(word,0) + 1\n",
    "print('Counts', counts)"
   ]
  },
  {
   "cell_type": "code",
   "execution_count": null,
   "id": "c8031b10",
   "metadata": {},
   "outputs": [],
   "source": [
    "#definite loops & dict\n",
    "\n",
    "counts = { 'chuck' : 1 , 'fred' : 42, 'jan': 100}\n",
    "for key in counts:\n",
    "    print(key, counts[key])"
   ]
  },
  {
   "cell_type": "code",
   "execution_count": null,
   "id": "03362b3c",
   "metadata": {},
   "outputs": [],
   "source": [
    "#retrieving lists of keys & values\n",
    "\n",
    "jjj = { 'chuck' : 1 , 'fred' : 42, 'jan': 100}\n",
    "print(list(jjj))\n",
    "\n",
    "print(jjj.keys())\n",
    "\n",
    "print(jjj.values())\n",
    "\n",
    "print(jjj.items())\n"
   ]
  },
  {
   "cell_type": "code",
   "execution_count": null,
   "id": "05388750",
   "metadata": {},
   "outputs": [],
   "source": [
    "#two iteration variables\n",
    "\n",
    "jjj = { 'chuck' : 1 , 'fred' : 42, 'jan': 100}\n",
    "for aaa,bbb in jjj.items() :\n",
    "    print(aaa, bbb)\n"
   ]
  }
 ],
 "metadata": {
  "kernelspec": {
   "display_name": "Python 3 (ipykernel)",
   "language": "python",
   "name": "python3"
  },
  "language_info": {
   "codemirror_mode": {
    "name": "ipython",
    "version": 3
   },
   "file_extension": ".py",
   "mimetype": "text/x-python",
   "name": "python",
   "nbconvert_exporter": "python",
   "pygments_lexer": "ipython3",
   "version": "3.11.4"
  }
 },
 "nbformat": 4,
 "nbformat_minor": 5
}
