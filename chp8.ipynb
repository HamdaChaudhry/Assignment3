{
 "cells": [
  {
   "cell_type": "code",
   "execution_count": 1,
   "id": "aa7d41b8",
   "metadata": {},
   "outputs": [
    {
     "name": "stdout",
     "output_type": "stream",
     "text": [
      "4\n"
     ]
    }
   ],
   "source": [
    "#old value over written\n",
    "\n",
    "x = 2\n",
    "x = 4\n",
    "print(x)"
   ]
  },
  {
   "cell_type": "code",
   "execution_count": 5,
   "id": "2731e66a",
   "metadata": {},
   "outputs": [
    {
     "name": "stdout",
     "output_type": "stream",
     "text": [
      "['Joseph', 'Glenn', 'Sally']\n",
      "['socks', 'shirt', 'perfume']\n"
     ]
    }
   ],
   "source": [
    "#example of list\n",
    "\n",
    "friends = [ 'Joseph', 'Glenn', 'Sally' ]\n",
    "carryon = [ 'socks', 'shirt', 'perfume' ]\n",
    "print(friends)\n",
    "print(carryon)"
   ]
  },
  {
   "cell_type": "code",
   "execution_count": 6,
   "id": "35c3c743",
   "metadata": {},
   "outputs": [
    {
     "name": "stdout",
     "output_type": "stream",
     "text": [
      "[1, 24, 76]\n",
      "['red', 'yellow', 'blue']\n",
      "['red', 24, 98.6]\n",
      "[1, [5, 6], 7]\n",
      "[]\n"
     ]
    }
   ],
   "source": [
    "#list constants\n",
    "\n",
    "print([1, 24, 76])\n",
    "print(['red', 'yellow', 'blue'])\n",
    "print(['red', 24, 98.6])\n",
    "print([ 1, [5, 6], 7])\n",
    "print([])"
   ]
  },
  {
   "cell_type": "code",
   "execution_count": 8,
   "id": "af2f162d",
   "metadata": {},
   "outputs": [
    {
     "name": "stdout",
     "output_type": "stream",
     "text": [
      "5\n",
      "4\n",
      "3\n",
      "2\n",
      "1\n",
      "Blastoff!\n"
     ]
    }
   ],
   "source": [
    "for i in [5, 4, 3, 2, 1] :\n",
    "    print(i)\n",
    "print('Blastoff!')"
   ]
  },
  {
   "cell_type": "code",
   "execution_count": 10,
   "id": "f1f2beaa",
   "metadata": {},
   "outputs": [
    {
     "name": "stdout",
     "output_type": "stream",
     "text": [
      "Happy New Year: Joseph\n",
      "Happy New Year: Glenn\n",
      "Happy New Year: Sally\n",
      "Done!\n",
      "Happy New Year: Joseph\n",
      "Happy New Year: Glenn\n",
      "Happy New Year: Sally\n",
      "Done!\n"
     ]
    }
   ],
   "source": [
    "#list & definite loops\n",
    "\n",
    "friends = ['Joseph', 'Glenn', 'Sally']\n",
    "for name in friends :\n",
    "    print('Happy New Year:', name)\n",
    "print('Done!')\n",
    "\n",
    "z = ['Joseph', 'Glenn', 'Sally']\n",
    "for x in z:\n",
    "    print('Happy New Year:', x)\n",
    "print('Done!')\n"
   ]
  },
  {
   "cell_type": "code",
   "execution_count": 12,
   "id": "c0ea8caa",
   "metadata": {},
   "outputs": [
    {
     "name": "stdout",
     "output_type": "stream",
     "text": [
      "banana\n",
      "[2, 14, 26, 41, 63]\n",
      "[2, 14, 28, 41, 63]\n"
     ]
    }
   ],
   "source": [
    "#lists are mutable,\n",
    "#1) we cannot change the contents of a string we mut make new string, \n",
    "fruit = 'Banana'\n",
    "x = fruit.lower()\n",
    "print(x)\n",
    "\n",
    "#2) we can chng elements of string by using index operator\n",
    "lotto = [2, 14, 26, 41, 63]\n",
    "print(lotto)\n",
    "lotto[2] = 28\n",
    "print(lotto)"
   ]
  },
  {
   "cell_type": "code",
   "execution_count": 13,
   "id": "e90712cb",
   "metadata": {},
   "outputs": [
    {
     "name": "stdout",
     "output_type": "stream",
     "text": [
      "9\n",
      "4\n"
     ]
    }
   ],
   "source": [
    "#length of a list\n",
    "\n",
    "greet = 'Hello Bob'\n",
    "print(len(greet))\n",
    "\n",
    "x = [ 1, 2, 'joe', 99]\n",
    "print(len(x))"
   ]
  },
  {
   "cell_type": "code",
   "execution_count": 14,
   "id": "40d90546",
   "metadata": {},
   "outputs": [
    {
     "name": "stdout",
     "output_type": "stream",
     "text": [
      "range(0, 4)\n",
      "3\n",
      "range(0, 3)\n"
     ]
    }
   ],
   "source": [
    "#range function\n",
    "\n",
    "print(range(4))\n",
    "friends = ['Joseph', 'Glenn', 'Sally']\n",
    "print(len(friends))\n",
    "print(range(len(friends)))"
   ]
  },
  {
   "cell_type": "code",
   "execution_count": 17,
   "id": "c4faf2ac",
   "metadata": {},
   "outputs": [
    {
     "name": "stdout",
     "output_type": "stream",
     "text": [
      "Happy New Year: Joseph\n",
      "Happy New Year: Glenn\n",
      "Happy New Year: Sally\n",
      "Happy New Year: Joseph\n",
      "Happy New Year: Glenn\n",
      "Happy New Year: Sally\n",
      "3\n",
      "range(0, 3)\n"
     ]
    }
   ],
   "source": [
    "#a tale of two loops\n",
    "\n",
    "friends = ['Joseph', 'Glenn', 'Sally']\n",
    "for friend in friends :\n",
    "    print('Happy New Year:', friend)\n",
    "for i in range(len(friends)) :\n",
    "    friend = friends[i]\n",
    "    print('Happy New Year:', friend)\n",
    "\n",
    "  \n",
    "#length & Range\n",
    "friends = ['Joseph', 'Glenn', 'Sally']\n",
    "print(len(friends))\n",
    "print(range(len(friends)))"
   ]
  },
  {
   "cell_type": "code",
   "execution_count": 18,
   "id": "63f33d04",
   "metadata": {},
   "outputs": [
    {
     "name": "stdout",
     "output_type": "stream",
     "text": [
      "[1, 2, 3, 4, 5, 6]\n",
      "[1, 2, 3]\n"
     ]
    }
   ],
   "source": [
    "#concatenation of list\n",
    "\n",
    "a = [1, 2, 3]\n",
    "b = [4, 5, 6]\n",
    "c = a + b\n",
    "print(c)\n",
    "print(a)"
   ]
  },
  {
   "cell_type": "code",
   "execution_count": 23,
   "id": "3f57ba46",
   "metadata": {},
   "outputs": [
    {
     "data": {
      "text/plain": [
       "[41, 12]"
      ]
     },
     "execution_count": 23,
     "metadata": {},
     "output_type": "execute_result"
    }
   ],
   "source": [
    "#list slicing 1\n",
    "\n",
    "t = [9, 41, 12, 3, 74, 15]\n",
    "t[1:3]\n"
   ]
  },
  {
   "cell_type": "code",
   "execution_count": 24,
   "id": "25138ddf",
   "metadata": {},
   "outputs": [
    {
     "data": {
      "text/plain": [
       "[9, 41, 12, 3]"
      ]
     },
     "execution_count": 24,
     "metadata": {},
     "output_type": "execute_result"
    }
   ],
   "source": [
    "#list slicing 2\n",
    "\n",
    "t = [9, 41, 12, 3, 74, 15]\n",
    "t[:4]"
   ]
  },
  {
   "cell_type": "code",
   "execution_count": 25,
   "id": "6fe8d2fc",
   "metadata": {},
   "outputs": [
    {
     "data": {
      "text/plain": [
       "[3, 74, 15]"
      ]
     },
     "execution_count": 25,
     "metadata": {},
     "output_type": "execute_result"
    }
   ],
   "source": [
    "#list slicing 3\n",
    "\n",
    "t = [9, 41, 12, 3, 74, 15]\n",
    "t[3:]\n"
   ]
  },
  {
   "cell_type": "code",
   "execution_count": 26,
   "id": "f0902640",
   "metadata": {},
   "outputs": [
    {
     "data": {
      "text/plain": [
       "['__add__',\n",
       " '__class__',\n",
       " '__class_getitem__',\n",
       " '__contains__',\n",
       " '__delattr__',\n",
       " '__delitem__',\n",
       " '__dir__',\n",
       " '__doc__',\n",
       " '__eq__',\n",
       " '__format__',\n",
       " '__ge__',\n",
       " '__getattribute__',\n",
       " '__getitem__',\n",
       " '__getstate__',\n",
       " '__gt__',\n",
       " '__hash__',\n",
       " '__iadd__',\n",
       " '__imul__',\n",
       " '__init__',\n",
       " '__init_subclass__',\n",
       " '__iter__',\n",
       " '__le__',\n",
       " '__len__',\n",
       " '__lt__',\n",
       " '__mul__',\n",
       " '__ne__',\n",
       " '__new__',\n",
       " '__reduce__',\n",
       " '__reduce_ex__',\n",
       " '__repr__',\n",
       " '__reversed__',\n",
       " '__rmul__',\n",
       " '__setattr__',\n",
       " '__setitem__',\n",
       " '__sizeof__',\n",
       " '__str__',\n",
       " '__subclasshook__',\n",
       " 'append',\n",
       " 'clear',\n",
       " 'copy',\n",
       " 'count',\n",
       " 'extend',\n",
       " 'index',\n",
       " 'insert',\n",
       " 'pop',\n",
       " 'remove',\n",
       " 'reverse',\n",
       " 'sort']"
      ]
     },
     "execution_count": 26,
     "metadata": {},
     "output_type": "execute_result"
    }
   ],
   "source": [
    "#list methods\n",
    "\n",
    "x = list()\n",
    "type(x)\n",
    "dir(x)"
   ]
  },
  {
   "cell_type": "code",
   "execution_count": 27,
   "id": "4f9bf45d",
   "metadata": {},
   "outputs": [
    {
     "name": "stdout",
     "output_type": "stream",
     "text": [
      "['book', 99]\n",
      "['book', 99, 'cookie']\n"
     ]
    }
   ],
   "source": [
    "#list from scratch\n",
    "\n",
    "stuff = list()\n",
    "stuff.append('book')\n",
    "stuff.append(99)\n",
    "print(stuff)\n",
    "\n",
    "stuff.append('cookie')\n",
    "print(stuff)"
   ]
  },
  {
   "cell_type": "code",
   "execution_count": 28,
   "id": "8e77adb4",
   "metadata": {},
   "outputs": [
    {
     "data": {
      "text/plain": [
       "True"
      ]
     },
     "execution_count": 28,
     "metadata": {},
     "output_type": "execute_result"
    }
   ],
   "source": [
    "#is something in list 1\n",
    "\n",
    "some = [1, 9, 21, 10, 16]\n",
    "9 in some\n",
    "\n",
    "15 in some\n",
    "\n",
    "20 not in some"
   ]
  },
  {
   "cell_type": "code",
   "execution_count": 29,
   "id": "ff222afd",
   "metadata": {},
   "outputs": [
    {
     "data": {
      "text/plain": [
       "False"
      ]
     },
     "execution_count": 29,
     "metadata": {},
     "output_type": "execute_result"
    }
   ],
   "source": [
    "#is something in list 2\n",
    "\n",
    "some = [1, 9, 21, 10, 16]\n",
    "\n",
    "15 in some"
   ]
  },
  {
   "cell_type": "code",
   "execution_count": 30,
   "id": "cd7c138e",
   "metadata": {},
   "outputs": [
    {
     "data": {
      "text/plain": [
       "True"
      ]
     },
     "execution_count": 30,
     "metadata": {},
     "output_type": "execute_result"
    }
   ],
   "source": [
    "#is something in list 3\n",
    "\n",
    "some = [1, 9, 21, 10, 16]\n",
    "9 in some"
   ]
  },
  {
   "cell_type": "code",
   "execution_count": 31,
   "id": "f4ea7bb5",
   "metadata": {},
   "outputs": [
    {
     "name": "stdout",
     "output_type": "stream",
     "text": [
      "['Glenn', 'Joseph', 'Sally']\n",
      "Joseph\n"
     ]
    }
   ],
   "source": [
    "#lists in order\n",
    "\n",
    "friends = [ 'Joseph', 'Glenn', 'Sally' ]\n",
    "friends.sort()\n",
    "print(friends)\n",
    "\n",
    "print(friends[1])"
   ]
  },
  {
   "cell_type": "code",
   "execution_count": 32,
   "id": "8bffa446",
   "metadata": {},
   "outputs": [
    {
     "name": "stdout",
     "output_type": "stream",
     "text": [
      "6\n",
      "74\n",
      "3\n",
      "154\n",
      "25.666666666666668\n"
     ]
    }
   ],
   "source": [
    "#built-in functions & lists\n",
    "\n",
    "nums = [3, 41, 12, 9, 74, 15]\n",
    "print(len(nums))\n",
    "\n",
    "print(max(nums))\n",
    "\n",
    "print(min(nums))\n",
    "\n",
    "print(sum(nums))\n",
    "\n",
    "print(sum(nums)/len(nums))"
   ]
  },
  {
   "cell_type": "code",
   "execution_count": 35,
   "id": "953ff618",
   "metadata": {},
   "outputs": [
    {
     "name": "stdout",
     "output_type": "stream",
     "text": [
      "Enter a number: 3\n",
      "Enter a number: 9\n",
      "Enter a number: 5\n",
      "Enter a number: done\n",
      "Average: 5.666666666666667\n"
     ]
    }
   ],
   "source": [
    "total = 0\n",
    "count = 0\n",
    "while True :\n",
    "    inp = input('Enter a number: ') \n",
    "    if inp == 'done' : break\n",
    "    value = float(inp)\n",
    "    total = total + value \n",
    "    count = count + 1\n",
    "average = total / count\n",
    "print('Average:', average)"
   ]
  },
  {
   "cell_type": "code",
   "execution_count": 36,
   "id": "2cb8ead1",
   "metadata": {},
   "outputs": [
    {
     "name": "stdout",
     "output_type": "stream",
     "text": [
      "Enter a number: 3\n",
      "Enter a number: 9\n",
      "Enter a number: 5\n",
      "Enter a number: done\n",
      "Average: 5.666666666666667\n"
     ]
    }
   ],
   "source": [
    "numlist = list()\n",
    "while True :\n",
    "    inp = input('Enter a number: ')\n",
    "    if inp == 'done' : break\n",
    "    value = float(inp)\n",
    "    numlist.append(value)\n",
    "average = sum(numlist) / len(numlist)\n",
    "print('Average:', average)"
   ]
  },
  {
   "cell_type": "code",
   "execution_count": 37,
   "id": "e1eb2fdf",
   "metadata": {},
   "outputs": [
    {
     "name": "stdout",
     "output_type": "stream",
     "text": [
      "['With', 'three', 'words']\n",
      "3\n",
      "With\n"
     ]
    }
   ],
   "source": [
    "#strings & lists are bestfriends\n",
    "\n",
    "abc = 'With three words'\n",
    "stuff = abc.split()\n",
    "print(stuff)\n",
    "\n",
    "print(len(stuff))\n",
    "\n",
    "print(stuff[0])"
   ]
  },
  {
   "cell_type": "code",
   "execution_count": 38,
   "id": "9e6946c4",
   "metadata": {},
   "outputs": [
    {
     "name": "stdout",
     "output_type": "stream",
     "text": [
      "['A', 'lot', 'of', 'spaces']\n",
      "['first;second;third']\n",
      "1\n",
      "['first', 'second', 'third']\n",
      "3\n"
     ]
    }
   ],
   "source": [
    "#delimiter\n",
    "\n",
    "line = 'A lot                  of spaces'\n",
    "etc = line.split()\n",
    "print(etc)\n",
    "\n",
    "line = 'first;second;third'\n",
    "thing = line.split()\n",
    "print(thing)\n",
    "\n",
    "print(len(thing))\n",
    "\n",
    "thing = line.split(';')\n",
    "print(thing)\n",
    "\n",
    "print(len(thing))\n",
    "\n",
    " \n"
   ]
  },
  {
   "cell_type": "code",
   "execution_count": 42,
   "id": "eae64ba5",
   "metadata": {},
   "outputs": [
    {
     "name": "stdout",
     "output_type": "stream",
     "text": [
      "['From', 'stephen.marquard@uct.ac.za', 'Sat', 'Jan', '5', '09:14:16', '2008']\n",
      "uct.ac.za\n"
     ]
    }
   ],
   "source": [
    "line = 'From stephen.marquard@uct.ac.za Sat Jan 5 09:14:16 2008'\n",
    "words = line.split()\n",
    "print(words)\n",
    "\n",
    "words = line.split()\n",
    "email = words[1]\n",
    "pieces = email.split('@')\n",
    "print(pieces[1])"
   ]
  }
 ],
 "metadata": {
  "kernelspec": {
   "display_name": "Python 3 (ipykernel)",
   "language": "python",
   "name": "python3"
  },
  "language_info": {
   "codemirror_mode": {
    "name": "ipython",
    "version": 3
   },
   "file_extension": ".py",
   "mimetype": "text/x-python",
   "name": "python",
   "nbconvert_exporter": "python",
   "pygments_lexer": "ipython3",
   "version": "3.11.4"
  }
 },
 "nbformat": 4,
 "nbformat_minor": 5
}
